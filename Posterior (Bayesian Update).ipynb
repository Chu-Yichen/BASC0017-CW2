{
  "nbformat": 4,
  "nbformat_minor": 0,
  "metadata": {
    "colab": {
      "provenance": [],
      "authorship_tag": "ABX9TyP8APOunCnveZNQjxGM7jY8",
      "include_colab_link": true
    },
    "kernelspec": {
      "name": "python3",
      "display_name": "Python 3"
    },
    "language_info": {
      "name": "python"
    }
  },
  "cells": [
    {
      "cell_type": "markdown",
      "metadata": {
        "id": "view-in-github",
        "colab_type": "text"
      },
      "source": [
        "<a href=\"https://colab.research.google.com/github/Chu-Yichen/BASC0017-CW2/blob/main/Posterior%20(Bayesian%20Update).ipynb\" target=\"_parent\"><img src=\"https://colab.research.google.com/assets/colab-badge.svg\" alt=\"Open In Colab\"/></a>"
      ]
    },
    {
      "cell_type": "code",
      "execution_count": 8,
      "metadata": {
        "colab": {
          "base_uri": "https://localhost:8080/"
        },
        "id": "RoQzTLCon50C",
        "outputId": "ac3c9a52-56e0-4a63-b51b-056622381af5"
      },
      "outputs": [
        {
          "output_type": "stream",
          "name": "stdout",
          "text": [
            "Posterior mu(R|Friendly): 0.57\n",
            "Posterior mu(R|Aloof): 0.18\n",
            "For s1 = Friendly, s2 = Credible, mu(R): 0.84\n",
            "For s1 = Friendly, s2 = Incredible, mu(R): 0.25\n",
            "For s1 = Aloof, s2 = Credible, mu(R): 0.47\n",
            "For s1 = Aloof, s2 = Incredible, mu(R): 0.05\n"
          ]
        }
      ],
      "source": [
        "# Nature\n",
        "P_R = 0.40        # P(theta=R)\n",
        "P_I = 0.60        # P(theta=I)\n",
        "\n",
        "# s1 probabilities:\n",
        "P_s1_F_given_R = 0.80  # P(s1 = Friendly | R)\n",
        "P_s1_F_given_I = 0.40  # P(s1 = Friendly | I)\n",
        "P_s1_A_given_R = 0.20  # P(s1 = Aloof | R)\n",
        "P_s1_A_given_I = 0.60  # P(s1 = Aloof | I)\n",
        "\n",
        "# s2 probabilities (if Landlord verifies):\n",
        "P_s2_C_given_R = 0.80  # P(s2 = Credible | R)\n",
        "P_s2_C_given_I = 0.20  # P(s2 = Credible | I)\n",
        "P_s2_I_given_R = 0.20  # P(s2 = Incredible | R)\n",
        "P_s2_I_given_I = 0.80  # P(s2 = Incredible | I)\n",
        "\n",
        "# Belief Update:\n",
        "# mu(R|s1, s2) = (P(s2|R)*mu(R|s1)) / [P(s2|R)*mu(R|s1) + P(s2|I)*(1 - mu(R|s1))]\n",
        "def belief_update(mu_s1, P_s2_R, P_s2_I):\n",
        "    return (P_s2_R * mu_s1) / (P_s2_R * mu_s1 + P_s2_I * (1 - mu_s1))\n",
        "\n",
        "# Calculate posterior mu(R|s1) for each s1\n",
        "mu_F = (P_s1_F_given_R * P_R) / (P_s1_F_given_R * P_R + P_s1_F_given_I * P_I)\n",
        "mu_A = (P_s1_A_given_R * P_R) / (P_s1_A_given_R * P_R + P_s1_A_given_I * P_I)\n",
        "\n",
        "print(\"Posterior mu(R|Friendly):\", round(mu_F, 2))\n",
        "print(\"Posterior mu(R|Aloof):\", round(mu_A, 2))\n",
        "\n",
        "# For s1 = Friendly, compute for s2 outcomes:\n",
        "mu_F_C = belief_update(mu_F, P_s2_C_given_R, P_s2_C_given_I)\n",
        "mu_F_I = belief_update(mu_F, P_s2_I_given_R, P_s2_I_given_I)\n",
        "\n",
        "print(\"For s1 = Friendly, s2 = Credible, mu(R):\", round(mu_F_C, 2))\n",
        "print(\"For s1 = Friendly, s2 = Incredible, mu(R):\", round(mu_F_I, 2))\n",
        "\n",
        "# For s1 = Aloof, compute for s2 outcomes:\n",
        "mu_A_C = belief_update(mu_A, P_s2_C_given_R, P_s2_C_given_I)\n",
        "mu_A_I = belief_update(mu_A, P_s2_I_given_R, P_s2_I_given_I)\n",
        "\n",
        "print(\"For s1 = Aloof, s2 = Credible, mu(R):\", round(mu_A_C, 2))\n",
        "print(\"For s1 = Aloof, s2 = Incredible, mu(R):\", round(mu_A_I,2))\n"
      ]
    }
  ]
}